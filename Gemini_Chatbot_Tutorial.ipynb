{
 "cells": [
  {
   "cell_type": "markdown",
   "id": "2d75bbf6-ab57-4c9b-b288-f664e82a57e0",
   "metadata": {},
   "source": [
    "##### Copyright 2024 Google LLC."
   ]
  },
  {
   "cell_type": "markdown",
   "id": "d8a1fcb6-4b84-4fed-970e-7ff74b7d3779",
   "metadata": {},
   "source": [
    "```python\n",
    "# @title Licensed under the Apache License, Version 2.0 (the \"License\");\n",
    "# you may not use this file except in compliance with the License.\n",
    "# You may obtain a copy of the License at\n",
    "#\n",
    "# https://www.apache.org/licenses/LICENSE-2.0\n",
    "#\n",
    "# Unless required by applicable law or agreed to in writing, software\n",
    "# distributed under the License is distributed on an \"AS IS\" BASIS,\n",
    "# WITHOUT WARRANTIES OR CONDITIONS OF ANY KIND, either express or implied.\n",
    "# See the License for the specific language governing permissions and\n",
    "# limitations under the License.\n",
    "```"
   ]
  },
  {
   "cell_type": "markdown",
   "id": "fc047e21-9782-4edf-bece-05e41fe8d78c",
   "metadata": {},
   "source": [
    "# Gemini API: Chatbot Quickstart\n",
    "\n",
    "<a target=\"_blank\" href=\"https://colab.research.google.com/github/AbhigyanSrivastav/gemini-api-tutorial/blob/main/Gemini_Chatbot_Tutorial.ipynb\">\n",
    "  <img src=\"https://colab.research.google.com/assets/colab-badge.svg\" height=30/>\n",
    "</a>\n",
    "\n",
    "---\n",
    "\n",
    "This notebook provides an example of how to use the **Gemini API to build a chatbot**.  \n",
    "You will create a conversational AI that generates responses based on user input.\n"
   ]
  },
  {
   "cell_type": "code",
   "execution_count": null,
   "id": "34b2ff96-842a-462c-bb60-8fab72276216",
   "metadata": {},
   "outputs": [],
   "source": [
    "# Install dependencies\n",
    "%pip install -U -q \"google-generativeai>=0.7.2\""
   ]
  },
  {
   "cell_type": "code",
   "execution_count": null,
   "id": "b5d4e8dd-caf1-4b1a-8c7b-e6dd63e1e0dd",
   "metadata": {},
   "outputs": [],
   "source": [
    "# Import necessary libraries\n",
    "import google.generativeai as genai"
   ]
  },
  {
   "cell_type": "markdown",
   "id": "22d65e95-db89-4383-a933-c1abb232292c",
   "metadata": {},
   "source": [
    "## Set up your API key\n",
    "\n",
    "To run the following cell, store your API key in a Colab Secret named `GOOGLE_API_KEY`.  \n",
    "If you don't already have an API key, or you're unsure how to create a Colab Secret, see the  \n",
    "[Authentication](https://github.com/google-gemini/cookbook/blob/a0b506a8f65141cec4eb9143db760c735f652a59/quickstarts/Authentication.ipynb) quickstart for an example.\n"
   ]
  },
  {
   "cell_type": "code",
   "execution_count": null,
   "id": "f4fe1935-8d6b-40e3-99e2-5cc55a427b02",
   "metadata": {},
   "outputs": [],
   "source": [
    "# # Configure your API key using Colab Secrets\n",
    "from google.colab import userdata\n",
    "\n",
    "GOOGLE_API_KEY = userdata.get(\"GOOGLE_API_KEY\")\n",
    "genai.configure(api_key=GOOGLE_API_KEY)"
   ]
  },
  {
   "cell_type": "markdown",
   "id": "754a3122-2b0e-47ae-838a-a1b90465e2ba",
   "metadata": {},
   "source": [
    "## **Interact with the Gemini Chatbot**  \n",
    "\n",
    "The function below sends a user prompt to the **Gemini API**, maintains conversation history, and streams responses in real-time.  \n",
    "You can modify the model version using the `MODEL_ID` variable."
   ]
  },
  {
   "cell_type": "code",
   "execution_count": null,
   "id": "825f3131-769d-4f8a-8505-ebf135e8ce7a",
   "metadata": {},
   "outputs": [],
   "source": [
    "# Select the Gemini model\n",
    "MODEL_ID = \"gemini-2.0-flash\"  # @param [\"gemini-2.0-flash-lite\", \"gemini-2.0-flash\", \"gemini-2.0-pro-exp-02-05\"] {\"allow-input\": true, \"isTemplate\": true}\n",
    "\n",
    "# Previous conversation history\n",
    "conversation_history = [\n",
    "    {\"role\": \"user\", \"parts\": [{\"text\": \"Hello!\"}]},\n",
    "    {\"role\": \"model\", \"parts\": [{\"text\": \"Hi there! How can I assist you today?\"}]},\n",
    "    {\"role\": \"user\", \"parts\": [{\"text\": \"I have two dogs in my house. How many paws are in my house?\"}]},\n",
    "    {\"role\": \"model\", \"parts\": [{\"text\": \"Each dog has 4 paws, so if you have 2 dogs, that makes 8 paws in your house.\"}]}\n",
    "]\n",
    "\n",
    "# Function to interact with Gemini Chatbot\n",
    "def chat_with_gemini(prompt: str) -> str:\n",
    "    \"\"\"\n",
    "    Generates a response from the Gemini chatbot for a given prompt.\n",
    "    - Maintains multi-turn conversation history\n",
    "    - Streams AI-generated responses in real-time\n",
    "    - Uses proper message formatting\n",
    "    \"\"\"\n",
    "    \n",
    "    # Append user input to conversation history\n",
    "    conversation_history.append({\"role\": \"user\", \"parts\": [{\"text\": prompt}]})\n",
    "\n",
    "    # Initialize the model\n",
    "    model = genai.GenerativeModel(MODEL_ID)\n",
    "\n",
    "    # Generate response with streaming\n",
    "    response = model.generate_content(conversation_history, stream=True)  # Pass history\n",
    "\n",
    "    full_response = \"\"\n",
    "    print(\"Gemini:\", end=\" \", flush=True)\n",
    "    for chunk in response:\n",
    "        print(chunk.text, end=\"\", flush=True)  # Streaming output\n",
    "        full_response += chunk.text\n",
    "\n",
    "    # Append AI response to history\n",
    "    conversation_history.append({\"role\": \"model\", \"parts\": [{\"text\": full_response}]})\n",
    "\n",
    "    return full_response\n",
    "\n",
    "# ask a follow-up question using the history\n",
    "user_input = \"What if I get another dog?\"\n",
    "response = chat_with_gemini(user_input)"
   ]
  },
  {
   "cell_type": "markdown",
   "id": "6098c63f-fa03-476d-b18b-1d64e8f62d3a",
   "metadata": {},
   "source": [
    "### **Gemini's Response:**  \n",
    "If you get another dog, you'll have a total of **3 dogs**. That means you'll have:  \n",
    "\n",
    "**3 dogs × 4 paws/dog = 12 dog paws**  \n",
    "\n",
    "Don't forget about your own feet! So, you'd have:  \n",
    "\n",
    "**12 dog paws + 2 of your feet**  "
   ]
  },
  {
   "cell_type": "markdown",
   "id": "e9c2b0a9-de41-47bb-9098-e998e7f2f0cd",
   "metadata": {},
   "source": [
    "## **Learn More**  \n",
    " \n",
    "📖 **[Read More on Handling Long Context](https://ai.google.dev/gemini-api/docs/long-context)**  \n"
   ]
  }
 ],
 "metadata": {
  "kernelspec": {
   "display_name": "Python (gemini-chatbot)",
   "language": "python",
   "name": "gemini-chatbot"
  },
  "language_info": {
   "codemirror_mode": {
    "name": "ipython",
    "version": 3
   },
   "file_extension": ".py",
   "mimetype": "text/x-python",
   "name": "python",
   "nbconvert_exporter": "python",
   "pygments_lexer": "ipython3",
   "version": "3.9.21"
  }
 },
 "nbformat": 4,
 "nbformat_minor": 5
}
